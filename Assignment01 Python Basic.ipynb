{
 "cells": [
  {
   "cell_type": "markdown",
   "metadata": {
    "id": "0yjsuB4ZiMZJ"
   },
   "source": [
    "**Purpose:**\n",
    "\n",
    "This assignment is intended to help you do the following:\n",
    "\n",
    "1.   Open a GitHub account for your own use and for your career advancement (if you already do not have one).\n",
    "2.   Submit information and code in GitHub following best practices from the Udacity course.\n",
    "3.   Define and call Python function\n",
    "4.   Use loop control flow\n",
    "\n",
    "\n",
    "\n",
    "\n"
   ]
  },
  {
   "cell_type": "code",
   "execution_count": null,
   "metadata": {},
   "outputs": [],
   "source": []
  },
  {
   "cell_type": "markdown",
   "metadata": {
    "id": "eu-8WtQFjU-e"
   },
   "source": [
    "**Action Items:**\n",
    "\n",
    "Open a GitHub account to submit your work. If you are new to GitHub, follow the videos and instructions on the following link to understand how to post things on GitHub and start your own account. https://blog.udacity.com/2015/06/a-beginners-git-github-tutorial.html and/or https://guides.github.com/activities/hello-world/\n",
    "\n",
    "**Dont't forget to add a README file in GitHub where you explain everything you did.**\n",
    "\n",
    "Write a Python code that defines a function named total, which takes two integers as arguments (num1, num2), and returns the total of the numbers within the range of these two numbers (num1, num2). For example, if the function received the numbers 1 and 4, it should return the total of the numbers in between, 1+2+3+4, which is 10. Please see the sample runs below. Please note that you need to implement the function in two different ways using:\n",
    "\n",
    "**A)\tWhile loop**\n",
    "**B)\tFor loop**\n",
    "\n",
    "Use the function in a program that prompts the user to enter the two numbers and then displays a message of the total of the numbers in between. Note: if num1 > num2, the function should return 0. Please see the sample runs below:\n",
    "\n",
    "Here are sample runs of the program:\n",
    "\n",
    "**Sample 1:**\n",
    "- Enter the first number: 1 \n",
    "- Enter the second number: 4 \n",
    "- The total of the numbers in between is 10\n",
    "\n",
    "**Sample 2:**\n",
    "- Enter the first number: 2\n",
    "- Enter the second number: 2 \n",
    "- The total of the numbers in between is 2\n",
    "\n",
    "**Sample 3:**\n",
    "- Enter the first number: 3 \n",
    "- Enter the second number: 2 \n",
    "- The total of the numbers in between is 0\n",
    "\n",
    "**Sample 4:**\n",
    "- Enter the first number: 20 \n",
    "- Enter the second number: 40 \n",
    "- The total of the numbers in between is 630\n"
   ]
  },
  {
   "cell_type": "code",
   "execution_count": 1,
   "metadata": {},
   "outputs": [
    {
     "name": "stdout",
     "output_type": "stream",
     "text": [
      "Using a mathmatical formula, math_sum_between():\n",
      "  -The sum between 1 and 4 is 10.\n",
      "  -The sum between 2 and 2 is 2.\n",
      "  -The sum between 3 and 2 is 0.\n",
      "  -The sum between 20 and 40 is 630.\n",
      "\n",
      "\n",
      "Using a while loop, loop_sum_between():\n",
      "  -The sum between 1 and 4 is 10.\n",
      "  -The sum between 2 and 2 is 2.\n",
      "  -The sum between 3 and 2 is 0.\n",
      "  -The sum between 20 and 40 is 630.\n",
      "\n",
      "\n",
      "Using a for loop, for_sum_between():\n",
      "  -The sum between 1 and 4 is 10.\n",
      "  -The sum between 2 and 2 is 2.\n",
      "  -The sum between 3 and 2 is 0.\n",
      "  -The sum between 20 and 40 is 630.\n"
     ]
    }
   ],
   "source": [
    "# https://math.stackexchange.com/questions/1842152/finding-the-sum-of-numbers-between-any-two-given-numbers\n",
    "#(n / 2)(first number + last number) = sum\n",
    "\n",
    "\n",
    "# first, lets use a mathmatical formula for the answer.\n",
    "def math_sum_between(start_number, end_number):\n",
    "    \"\"\"\n",
    "    Takes a starting number and end number and sum the numbers between\n",
    "    the start and finish and return the value.  This is based on a math\n",
    "    equation I found online.\n",
    "    \"\"\"\n",
    "    return int(((end_number - start_number + 1)*(start_number + end_number))/2)\n",
    "\n",
    "\n",
    "# Using a while loop to add numbers one at a time.\n",
    "def while_sum_between(start_number, end_number):\n",
    "    \"\"\"\n",
    "    Takes a starting and ending number and sums the numbers (including\n",
    "    start and end numbers.). This works by declaring a starting variable\n",
    "    set to 0 and adding the start number to the starting 0, incrementing the \n",
    "    start_number by 1 until it is > the end number.\n",
    "    \"\"\"\n",
    "    return_value = 0\n",
    "    while start_number <= end_number:\n",
    "        return_value += start_number\n",
    "        start_number += 1\n",
    "    return return_value\n",
    "\n",
    "\n",
    "# Using a for loop with a range list..\n",
    "def for_sum_between(start_number, end_number):\n",
    "    \"\"\"\n",
    "    Similar to while_sum_betweem and math_sum_between except it creates a range\n",
    "    between the start_number and end_number using range and sums the numbers\n",
    "    in the range.\n",
    "    \"\"\"\n",
    "    return_value = 0\n",
    "    numbers_to_add = range(start_number, end_number + 1)\n",
    "    # 'end_number + 1' since end_number would actually go to end_number - 1 in range\n",
    "    for number in numbers_to_add:\n",
    "        return_value += number\n",
    "    return return_value\n",
    "\n",
    "\n",
    "# Each of the sample cases listed below as a list of tuples to allow us to try all cases\n",
    "# on each function with a few lines of code.\n",
    "test_cases = [(1, 4), (2, 2), (3, 2), (20, 40)]\n",
    "\n",
    "# Checking our sample cases with the math_sum_between()\n",
    "print('Using a mathmatical formula, math_sum_between():')\n",
    "for i in test_cases:\n",
    "    print(f'  -The sum between {i[0]} and {i[1]} is {math_sum_between(i[0], i[1])}.')\n",
    "    \n",
    "# A) While Loop\n",
    "# Checking our samples cases with the while_sum_between()\n",
    "print('\\n\\nUsing a while loop, loop_sum_between():')\n",
    "for i in test_cases:\n",
    "    print(f'  -The sum between {i[0]} and {i[1]} is {while_sum_between(i[0], i[1])}.')\n",
    "\n",
    "# B) For Loop\n",
    "# Checking our sample cases with the for_sum_between()\n",
    "print('\\n\\nUsing a for loop, for_sum_between():')\n",
    "for i in test_cases:\n",
    "    print(f'  -The sum between {i[0]} and {i[1]} is {for_sum_between(i[0], i[1])}.')"
   ]
  },
  {
   "cell_type": "code",
   "execution_count": null,
   "metadata": {},
   "outputs": [],
   "source": []
  }
 ],
 "metadata": {
  "colab": {
   "name": "Assignment 01 Python Basic.ipynb",
   "provenance": []
  },
  "kernelspec": {
   "display_name": "Python 3",
   "language": "python",
   "name": "python3"
  },
  "language_info": {
   "codemirror_mode": {
    "name": "ipython",
    "version": 3
   },
   "file_extension": ".py",
   "mimetype": "text/x-python",
   "name": "python",
   "nbconvert_exporter": "python",
   "pygments_lexer": "ipython3",
   "version": "3.8.5"
  }
 },
 "nbformat": 4,
 "nbformat_minor": 4
}
